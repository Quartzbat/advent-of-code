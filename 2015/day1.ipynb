{
 "cells": [
  {
   "cell_type": "code",
   "id": "initial_id",
   "metadata": {
    "collapsed": true,
    "ExecuteTime": {
     "end_time": "2024-12-10T20:24:42.265008Z",
     "start_time": "2024-12-10T20:24:42.258398Z"
    }
   },
   "source": [
    "with open('../data/2015/day1.txt', 'r') as f:\n",
    "    data = f.read()"
   ],
   "outputs": [],
   "execution_count": 1
  },
  {
   "metadata": {
    "ExecuteTime": {
     "end_time": "2024-12-10T20:24:42.557754Z",
     "start_time": "2024-12-10T20:24:42.551588Z"
    }
   },
   "cell_type": "code",
   "source": [
    "floor = 0\n",
    "part2 = None\n",
    "for i,d in enumerate(list(data)):\n",
    "    if d == '(':\n",
    "        floor += 1\n",
    "    elif d == ')':\n",
    "        floor -= 1\n",
    "    if floor == -1 and part2 is None:\n",
    "        part2 = i + 1\n",
    "print(f'part 1: {floor}')\n",
    "print(f'part 2: {part2}')"
   ],
   "id": "64107f040d789042",
   "outputs": [
    {
     "name": "stdout",
     "output_type": "stream",
     "text": [
      "part 1: 232\n",
      "part 2: 1783\n"
     ]
    }
   ],
   "execution_count": 2
  },
  {
   "metadata": {},
   "cell_type": "code",
   "source": "",
   "id": "7c79e68849985d05",
   "outputs": [],
   "execution_count": null
  }
 ],
 "metadata": {
  "kernelspec": {
   "display_name": "Python 3",
   "language": "python",
   "name": "python3"
  },
  "language_info": {
   "codemirror_mode": {
    "name": "ipython",
    "version": 2
   },
   "file_extension": ".py",
   "mimetype": "text/x-python",
   "name": "python",
   "nbconvert_exporter": "python",
   "pygments_lexer": "ipython2",
   "version": "2.7.6"
  }
 },
 "nbformat": 4,
 "nbformat_minor": 5
}
